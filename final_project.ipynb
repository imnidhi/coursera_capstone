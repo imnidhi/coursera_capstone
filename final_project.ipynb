{
 "cells": [
  {
   "cell_type": "code",
   "execution_count": 1,
   "metadata": {},
   "outputs": [
    {
     "name": "stdout",
     "output_type": "stream",
     "text": [
      "Requirement already satisfied: geopy in /home/jupyterlab/conda/envs/python/lib/python3.6/site-packages (2.1.0)\n",
      "Requirement already satisfied: geographiclib<2,>=1.49 in /home/jupyterlab/conda/envs/python/lib/python3.6/site-packages (from geopy) (1.50)\n",
      "Requirement already satisfied: folium==0.5.0 in /home/jupyterlab/conda/envs/python/lib/python3.6/site-packages (0.5.0)\n",
      "Requirement already satisfied: branca in /home/jupyterlab/conda/envs/python/lib/python3.6/site-packages (from folium==0.5.0) (0.4.2)\n",
      "Requirement already satisfied: jinja2 in /home/jupyterlab/conda/envs/python/lib/python3.6/site-packages (from folium==0.5.0) (2.11.2)\n",
      "Requirement already satisfied: requests in /home/jupyterlab/conda/envs/python/lib/python3.6/site-packages (from folium==0.5.0) (2.25.0)\n",
      "Requirement already satisfied: six in /home/jupyterlab/conda/envs/python/lib/python3.6/site-packages (from folium==0.5.0) (1.15.0)\n",
      "Requirement already satisfied: MarkupSafe>=0.23 in /home/jupyterlab/conda/envs/python/lib/python3.6/site-packages (from jinja2->folium==0.5.0) (1.1.1)\n",
      "Requirement already satisfied: chardet<4,>=3.0.2 in /home/jupyterlab/conda/envs/python/lib/python3.6/site-packages (from requests->folium==0.5.0) (3.0.4)\n",
      "Requirement already satisfied: urllib3<1.27,>=1.21.1 in /home/jupyterlab/conda/envs/python/lib/python3.6/site-packages (from requests->folium==0.5.0) (1.25.11)\n",
      "Requirement already satisfied: certifi>=2017.4.17 in /home/jupyterlab/conda/envs/python/lib/python3.6/site-packages (from requests->folium==0.5.0) (2020.12.5)\n",
      "Requirement already satisfied: idna<3,>=2.5 in /home/jupyterlab/conda/envs/python/lib/python3.6/site-packages (from requests->folium==0.5.0) (2.10)\n",
      "Folium installed\n",
      "Libraries imported.\n"
     ]
    }
   ],
   "source": [
    "import requests # library to handle requests\n",
    "import pandas as pd # library for data analsysis\n",
    "import numpy as np # library to handle data in a vectorized manner\n",
    "import random # library for random number generation\n",
    "\n",
    "\n",
    "!pip install geopy\n",
    "from geopy.geocoders import Nominatim # module to convert an address into latitude and longitude values\n",
    "\n",
    "# libraries for displaying images\n",
    "from IPython.display import Image \n",
    "from IPython.core.display import HTML \n",
    "    \n",
    "# tranforming json file into a pandas dataframe library\n",
    "from pandas.io.json import json_normalize\n",
    "\n",
    "\n",
    "! pip install folium==0.5.0\n",
    "import folium # plotting library\n",
    "\n",
    "print('Folium installed')\n",
    "print('Libraries imported.')"
   ]
  },
  {
   "cell_type": "code",
   "execution_count": 3,
   "metadata": {},
   "outputs": [
    {
     "name": "stdout",
     "output_type": "stream",
     "text": [
      "Data loaded\n"
     ]
    }
   ],
   "source": [
    "csv_path='https://www.toronto.ca/ext/open_data/catalog/data_set_files/2016_neighbourhood_profiles.csv'\n",
    "df = pd.read_csv(csv_path,encoding='latin1')\n",
    "print('Data loaded')"
   ]
  },
  {
   "cell_type": "code",
   "execution_count": 4,
   "metadata": {},
   "outputs": [
    {
     "name": "stdout",
     "output_type": "stream",
     "text": [
      "['Agincourt North', 'Agincourt South-Malvern West', 'Alderwood', 'Annex', 'Banbury-Don Mills', 'Bathurst Manor', 'Bay Street Corridor', 'Bayview Village', 'Bayview Woods-Steeles', 'Bedford Park-Nortown', 'Beechborough-Greenbrook', 'Bendale', 'Birchcliffe-Cliffside', 'Black Creek', 'Blake-Jones', 'Briar Hill-Belgravia', 'Bridle Path-Sunnybrook-York Mills', 'Broadview North', 'Brookhaven-Amesbury', 'Cabbagetown-South St. James Town', 'Caledonia-Fairbank', 'Casa Loma', 'Centennial Scarborough', 'Church-Yonge Corridor', 'Clairlea-Birchmount', 'Clanton Park', 'Cliffcrest', 'Corso Italia-Davenport', 'Danforth', 'Danforth East York', 'Don Valley Village', 'Dorset Park', 'Dovercourt-Wallace Emerson-Junction', 'Downsview-Roding-CFB', 'Dufferin Grove', 'East End-Danforth', 'Edenbridge-Humber Valley', 'Eglinton East', 'Elms-Old Rexdale', 'Englemount-Lawrence', 'Eringate-Centennial-West Deane', 'Etobicoke West Mall', 'Flemingdon Park', 'Forest Hill North', 'Forest Hill South', 'Glenfield-Jane Heights', 'Greenwood-Coxwell', 'Guildwood', 'Henry Farm', 'High Park North', 'High Park-Swansea', 'Highland Creek', 'Hillcrest Village', 'Humber Heights-Westmount', 'Humber Summit', 'Humbermede', 'Humewood-Cedarvale', 'Ionview', 'Islington-City Centre West', 'Junction Area', 'Keelesdale-Eglinton West', 'Kennedy Park', 'Kensington-Chinatown', 'Kingsview Village-The Westway', 'Kingsway South', 'Lambton Baby Point', \"L'Amoreaux\", 'Lansing-Westgate', 'Lawrence Park North', 'Lawrence Park South', 'Leaside-Bennington', 'Little Portugal', 'Long Branch', 'Malvern', 'Maple Leaf', 'Markland Wood', 'Milliken', 'Mimico (includes Humber Bay Shores)', 'Morningside', 'Moss Park', 'Mount Dennis', 'Mount Olive-Silverstone-Jamestown', 'Mount Pleasant East', 'Mount Pleasant West', 'New Toronto', 'Newtonbrook East', 'Newtonbrook West', 'Niagara', 'North Riverdale', 'North St. James Town', 'Oakridge', 'Oakwood Village', \"O'Connor-Parkview\", 'Old East York', 'Palmerston-Little Italy', 'Parkwoods-Donalda', 'Pelmo Park-Humberlea', 'Playter Estates-Danforth', 'Pleasant View', 'Princess-Rosethorn', 'Regent Park', 'Rexdale-Kipling', 'Rockcliffe-Smythe', 'Roncesvalles', 'Rosedale-Moore Park', 'Rouge', 'Runnymede-Bloor West Village', 'Rustic', 'Scarborough Village', 'South Parkdale', 'South Riverdale', 'St.Andrew-Windfields', 'Steeles', 'Stonegate-Queensway', \"Tam O'Shanter-Sullivan\", 'Taylor-Massey', 'The Beaches', 'Thistletown-Beaumond Heights', 'Thorncliffe Park', 'Trinity-Bellwoods', 'University', 'Victoria Village', 'Waterfront Communities-The Island', 'West Hill', 'West Humber-Clairville', 'Westminster-Branson', 'Weston', 'Weston-Pelham Park', 'Wexford/Maryvale', 'Willowdale East', 'Willowdale West', 'Willowridge-Martingrove-Richview', 'Woburn', 'Woodbine Corridor', 'Woodbine-Lumsden', 'Wychwood', 'Yonge-Eglinton', 'Yonge-St.Clair', 'York University Heights', 'Yorkdale-Glen Park']\n"
     ]
    }
   ],
   "source": [
    "Neighbourhoods = list(df.columns.values)\n",
    "Neighbourhoods = Neighbourhoods[5:]\n",
    "print(Neighbourhoods)"
   ]
  },
  {
   "cell_type": "code",
   "execution_count": 5,
   "metadata": {},
   "outputs": [
    {
     "data": {
      "text/html": [
       "<div>\n",
       "<style scoped>\n",
       "    .dataframe tbody tr th:only-of-type {\n",
       "        vertical-align: middle;\n",
       "    }\n",
       "\n",
       "    .dataframe tbody tr th {\n",
       "        vertical-align: top;\n",
       "    }\n",
       "\n",
       "    .dataframe thead th {\n",
       "        text-align: right;\n",
       "    }\n",
       "</style>\n",
       "<table border=\"1\" class=\"dataframe\">\n",
       "  <thead>\n",
       "    <tr style=\"text-align: right;\">\n",
       "      <th></th>\n",
       "      <th>Population_2016</th>\n",
       "    </tr>\n",
       "  </thead>\n",
       "  <tbody>\n",
       "    <tr>\n",
       "      <th>Agincourt North</th>\n",
       "      <td>NaN</td>\n",
       "    </tr>\n",
       "    <tr>\n",
       "      <th>Agincourt South-Malvern West</th>\n",
       "      <td>NaN</td>\n",
       "    </tr>\n",
       "    <tr>\n",
       "      <th>Alderwood</th>\n",
       "      <td>NaN</td>\n",
       "    </tr>\n",
       "    <tr>\n",
       "      <th>Annex</th>\n",
       "      <td>NaN</td>\n",
       "    </tr>\n",
       "    <tr>\n",
       "      <th>Banbury-Don Mills</th>\n",
       "      <td>NaN</td>\n",
       "    </tr>\n",
       "  </tbody>\n",
       "</table>\n",
       "</div>"
      ],
      "text/plain": [
       "                             Population_2016\n",
       "Agincourt North                          NaN\n",
       "Agincourt South-Malvern West             NaN\n",
       "Alderwood                                NaN\n",
       "Annex                                    NaN\n",
       "Banbury-Don Mills                        NaN"
      ]
     },
     "execution_count": 5,
     "metadata": {},
     "output_type": "execute_result"
    }
   ],
   "source": [
    "\n",
    "dfToronto = pd.DataFrame(index=Neighbourhoods, columns=[\"Population_2016\"])\n",
    "dfToronto.head()"
   ]
  },
  {
   "cell_type": "code",
   "execution_count": 6,
   "metadata": {},
   "outputs": [],
   "source": [
    "for index, row in dfToronto.iterrows():\n",
    "    dfToronto.at[index, 'Population_2016'] = df[index][2]\n",
    "\n"
   ]
  },
  {
   "cell_type": "code",
   "execution_count": 7,
   "metadata": {},
   "outputs": [
    {
     "data": {
      "text/html": [
       "<div>\n",
       "<style scoped>\n",
       "    .dataframe tbody tr th:only-of-type {\n",
       "        vertical-align: middle;\n",
       "    }\n",
       "\n",
       "    .dataframe tbody tr th {\n",
       "        vertical-align: top;\n",
       "    }\n",
       "\n",
       "    .dataframe thead th {\n",
       "        text-align: right;\n",
       "    }\n",
       "</style>\n",
       "<table border=\"1\" class=\"dataframe\">\n",
       "  <thead>\n",
       "    <tr style=\"text-align: right;\">\n",
       "      <th></th>\n",
       "      <th>Population_2016</th>\n",
       "    </tr>\n",
       "  </thead>\n",
       "  <tbody>\n",
       "    <tr>\n",
       "      <th>Agincourt North</th>\n",
       "      <td>29,113</td>\n",
       "    </tr>\n",
       "    <tr>\n",
       "      <th>Agincourt South-Malvern West</th>\n",
       "      <td>23,757</td>\n",
       "    </tr>\n",
       "    <tr>\n",
       "      <th>Alderwood</th>\n",
       "      <td>12,054</td>\n",
       "    </tr>\n",
       "    <tr>\n",
       "      <th>Annex</th>\n",
       "      <td>30,526</td>\n",
       "    </tr>\n",
       "    <tr>\n",
       "      <th>Banbury-Don Mills</th>\n",
       "      <td>27,695</td>\n",
       "    </tr>\n",
       "    <tr>\n",
       "      <th>...</th>\n",
       "      <td>...</td>\n",
       "    </tr>\n",
       "    <tr>\n",
       "      <th>Wychwood</th>\n",
       "      <td>14,349</td>\n",
       "    </tr>\n",
       "    <tr>\n",
       "      <th>Yonge-Eglinton</th>\n",
       "      <td>11,817</td>\n",
       "    </tr>\n",
       "    <tr>\n",
       "      <th>Yonge-St.Clair</th>\n",
       "      <td>12,528</td>\n",
       "    </tr>\n",
       "    <tr>\n",
       "      <th>York University Heights</th>\n",
       "      <td>27,593</td>\n",
       "    </tr>\n",
       "    <tr>\n",
       "      <th>Yorkdale-Glen Park</th>\n",
       "      <td>14,804</td>\n",
       "    </tr>\n",
       "  </tbody>\n",
       "</table>\n",
       "<p>140 rows × 1 columns</p>\n",
       "</div>"
      ],
      "text/plain": [
       "                             Population_2016\n",
       "Agincourt North                       29,113\n",
       "Agincourt South-Malvern West          23,757\n",
       "Alderwood                             12,054\n",
       "Annex                                 30,526\n",
       "Banbury-Don Mills                     27,695\n",
       "...                                      ...\n",
       "Wychwood                              14,349\n",
       "Yonge-Eglinton                        11,817\n",
       "Yonge-St.Clair                        12,528\n",
       "York University Heights               27,593\n",
       "Yorkdale-Glen Park                    14,804\n",
       "\n",
       "[140 rows x 1 columns]"
      ]
     },
     "execution_count": 7,
     "metadata": {},
     "output_type": "execute_result"
    }
   ],
   "source": [
    "dfToronto"
   ]
  },
  {
   "cell_type": "code",
   "execution_count": 8,
   "metadata": {},
   "outputs": [],
   "source": [
    "CLIENT_ID = 'HJWCAWCCLK501ORUCKKVY3MRSZCBESDCGV5EUGZAITMOHLCE' # your Foursquare ID\n",
    "CLIENT_SECRET = 'Y1X2L35U1EUCAVA1JZK0CURTDUIL51VSOHNXZJVWDZ55WAAM' # your Foursquare Secret\n",
    "ACCESS_TOKEN = 'BRPRZRQH35VQ3HXCVDNRZKUSYJEJNUFTN3XTAAMQCTWYMETV' # your FourSquare Access Token\n",
    "VERSION = '20180604'"
   ]
  },
  {
   "cell_type": "code",
   "execution_count": 10,
   "metadata": {},
   "outputs": [
    {
     "name": "stdin",
     "output_type": "stream",
     "text": [
      "Enter area : Annex\n"
     ]
    },
    {
     "name": "stdout",
     "output_type": "stream",
     "text": [
      "43.6703377 -79.407117\n"
     ]
    }
   ],
   "source": [
    "address = input(\"Enter area :\")\n",
    "\n",
    "geolocator = Nominatim(user_agent=\"foursquare_agent\")\n",
    "location = geolocator.geocode(address)\n",
    "latitude = location.latitude\n",
    "longitude = location.longitude\n",
    "print(latitude, longitude)"
   ]
  },
  {
   "cell_type": "code",
   "execution_count": 13,
   "metadata": {},
   "outputs": [],
   "source": [
    "hosp_url = 'https://api.foursquare.com/v2/venues/search?ll={},{}&categoryId=4bf58dd8d48988d196941735&client_id={}&client_secret={}&limit=1&v={}'.format(latitude,longitude,CLIENT_ID,CLIENT_SECRET,VERSION)\n",
    "uni_url = 'https://api.foursquare.com/v2/venues/search?ll={},{}&categoryId=4d4b7105d754a06372d81259&client_id={}&client_secret={}&limit=1&v={}'.format(latitude,longitude,CLIENT_ID,CLIENT_SECRET,VERSION)\n",
    "mall_url = 'https://api.foursquare.com/v2/venues/search?ll={},{}&categoryId=5744ccdfe4b0c0459246b4df&client_id={}&client_secret={}&limit=1&v={}'.format(latitude,longitude,CLIENT_ID,CLIENT_SECRET,VERSION)\n"
   ]
  },
  {
   "cell_type": "code",
   "execution_count": 15,
   "metadata": {},
   "outputs": [
    {
     "name": "stderr",
     "output_type": "stream",
     "text": [
      "/home/jupyterlab/conda/envs/python/lib/python3.6/site-packages/ipykernel_launcher.py:4: FutureWarning: pandas.io.json.json_normalize is deprecated, use pandas.json_normalize instead\n",
      "  after removing the cwd from sys.path.\n"
     ]
    },
    {
     "data": {
      "text/html": [
       "<div>\n",
       "<style scoped>\n",
       "    .dataframe tbody tr th:only-of-type {\n",
       "        vertical-align: middle;\n",
       "    }\n",
       "\n",
       "    .dataframe tbody tr th {\n",
       "        vertical-align: top;\n",
       "    }\n",
       "\n",
       "    .dataframe thead th {\n",
       "        text-align: right;\n",
       "    }\n",
       "</style>\n",
       "<table border=\"1\" class=\"dataframe\">\n",
       "  <thead>\n",
       "    <tr style=\"text-align: right;\">\n",
       "      <th></th>\n",
       "      <th>id</th>\n",
       "      <th>name</th>\n",
       "      <th>categories</th>\n",
       "      <th>referralId</th>\n",
       "      <th>hasPerk</th>\n",
       "      <th>location.address</th>\n",
       "      <th>location.crossStreet</th>\n",
       "      <th>location.lat</th>\n",
       "      <th>location.lng</th>\n",
       "      <th>location.labeledLatLngs</th>\n",
       "      <th>location.distance</th>\n",
       "      <th>location.postalCode</th>\n",
       "      <th>location.cc</th>\n",
       "      <th>location.city</th>\n",
       "      <th>location.state</th>\n",
       "      <th>location.country</th>\n",
       "      <th>location.formattedAddress</th>\n",
       "    </tr>\n",
       "  </thead>\n",
       "  <tbody>\n",
       "    <tr>\n",
       "      <th>0</th>\n",
       "      <td>4b4b47f0f964a5205f9626e3</td>\n",
       "      <td>Credit Valley Hospital</td>\n",
       "      <td>[{'id': '4bf58dd8d48988d196941735', 'name': 'H...</td>\n",
       "      <td>v-1617728209</td>\n",
       "      <td>False</td>\n",
       "      <td>2200 Eglinton Ave West</td>\n",
       "      <td>at Erin Mills Pkwy</td>\n",
       "      <td>43.559326</td>\n",
       "      <td>-79.703589</td>\n",
       "      <td>[{'label': 'display', 'lat': 43.55932579710907...</td>\n",
       "      <td>26900</td>\n",
       "      <td>L5M 2N1</td>\n",
       "      <td>CA</td>\n",
       "      <td>Mississauga</td>\n",
       "      <td>ON</td>\n",
       "      <td>Canada</td>\n",
       "      <td>[2200 Eglinton Ave West (at Erin Mills Pkwy), ...</td>\n",
       "    </tr>\n",
       "  </tbody>\n",
       "</table>\n",
       "</div>"
      ],
      "text/plain": [
       "                         id                    name  \\\n",
       "0  4b4b47f0f964a5205f9626e3  Credit Valley Hospital   \n",
       "\n",
       "                                          categories    referralId  hasPerk  \\\n",
       "0  [{'id': '4bf58dd8d48988d196941735', 'name': 'H...  v-1617728209    False   \n",
       "\n",
       "         location.address location.crossStreet  location.lat  location.lng  \\\n",
       "0  2200 Eglinton Ave West   at Erin Mills Pkwy     43.559326    -79.703589   \n",
       "\n",
       "                             location.labeledLatLngs  location.distance  \\\n",
       "0  [{'label': 'display', 'lat': 43.55932579710907...              26900   \n",
       "\n",
       "  location.postalCode location.cc location.city location.state  \\\n",
       "0             L5M 2N1          CA   Mississauga             ON   \n",
       "\n",
       "  location.country                          location.formattedAddress  \n",
       "0           Canada  [2200 Eglinton Ave West (at Erin Mills Pkwy), ...  "
      ]
     },
     "execution_count": 15,
     "metadata": {},
     "output_type": "execute_result"
    }
   ],
   "source": [
    "############# HOSPITALS\n",
    "hospital_results = requests.get(hosp_url).json()\n",
    "hosp_venues = hospital_results['response']['venues']\n",
    "df1 = json_normalize(hosp_venues)\n",
    "df1.head()"
   ]
  },
  {
   "cell_type": "code",
   "execution_count": 16,
   "metadata": {},
   "outputs": [
    {
     "name": "stderr",
     "output_type": "stream",
     "text": [
      "/home/jupyterlab/conda/envs/python/lib/python3.6/site-packages/ipykernel_launcher.py:4: FutureWarning: pandas.io.json.json_normalize is deprecated, use pandas.json_normalize instead\n",
      "  after removing the cwd from sys.path.\n"
     ]
    },
    {
     "data": {
      "text/html": [
       "<div>\n",
       "<style scoped>\n",
       "    .dataframe tbody tr th:only-of-type {\n",
       "        vertical-align: middle;\n",
       "    }\n",
       "\n",
       "    .dataframe tbody tr th {\n",
       "        vertical-align: top;\n",
       "    }\n",
       "\n",
       "    .dataframe thead th {\n",
       "        text-align: right;\n",
       "    }\n",
       "</style>\n",
       "<table border=\"1\" class=\"dataframe\">\n",
       "  <thead>\n",
       "    <tr style=\"text-align: right;\">\n",
       "      <th></th>\n",
       "      <th>id</th>\n",
       "      <th>name</th>\n",
       "      <th>categories</th>\n",
       "      <th>referralId</th>\n",
       "      <th>hasPerk</th>\n",
       "      <th>location.address</th>\n",
       "      <th>location.crossStreet</th>\n",
       "      <th>location.lat</th>\n",
       "      <th>location.lng</th>\n",
       "      <th>location.labeledLatLngs</th>\n",
       "      <th>location.distance</th>\n",
       "      <th>location.postalCode</th>\n",
       "      <th>location.cc</th>\n",
       "      <th>location.city</th>\n",
       "      <th>location.state</th>\n",
       "      <th>location.country</th>\n",
       "      <th>location.formattedAddress</th>\n",
       "      <th>venuePage.id</th>\n",
       "    </tr>\n",
       "  </thead>\n",
       "  <tbody>\n",
       "    <tr>\n",
       "      <th>0</th>\n",
       "      <td>4ad4c05ef964a52097f620e3</td>\n",
       "      <td>University of Toronto</td>\n",
       "      <td>[{'id': '4bf58dd8d48988d1ae941735', 'name': 'U...</td>\n",
       "      <td>v-1617728210</td>\n",
       "      <td>False</td>\n",
       "      <td>27 King's College Cir</td>\n",
       "      <td>at King's College Rd</td>\n",
       "      <td>43.662493</td>\n",
       "      <td>-79.39522</td>\n",
       "      <td>[{'label': 'display', 'lat': 43.6624934706167,...</td>\n",
       "      <td>1296</td>\n",
       "      <td>M5S 1A1</td>\n",
       "      <td>CA</td>\n",
       "      <td>Toronto</td>\n",
       "      <td>ON</td>\n",
       "      <td>Canada</td>\n",
       "      <td>[27 King's College Cir (at King's College Rd),...</td>\n",
       "      <td>57112483</td>\n",
       "    </tr>\n",
       "  </tbody>\n",
       "</table>\n",
       "</div>"
      ],
      "text/plain": [
       "                         id                   name  \\\n",
       "0  4ad4c05ef964a52097f620e3  University of Toronto   \n",
       "\n",
       "                                          categories    referralId  hasPerk  \\\n",
       "0  [{'id': '4bf58dd8d48988d1ae941735', 'name': 'U...  v-1617728210    False   \n",
       "\n",
       "        location.address  location.crossStreet  location.lat  location.lng  \\\n",
       "0  27 King's College Cir  at King's College Rd     43.662493     -79.39522   \n",
       "\n",
       "                             location.labeledLatLngs  location.distance  \\\n",
       "0  [{'label': 'display', 'lat': 43.6624934706167,...               1296   \n",
       "\n",
       "  location.postalCode location.cc location.city location.state  \\\n",
       "0             M5S 1A1          CA       Toronto             ON   \n",
       "\n",
       "  location.country                          location.formattedAddress  \\\n",
       "0           Canada  [27 King's College Cir (at King's College Rd),...   \n",
       "\n",
       "  venuePage.id  \n",
       "0     57112483  "
      ]
     },
     "execution_count": 16,
     "metadata": {},
     "output_type": "execute_result"
    }
   ],
   "source": [
    "########## UNIVERSITIES\n",
    "uni_results = requests.get(uni_url).json()\n",
    "uni_venues = uni_results['response']['venues']\n",
    "df2 = json_normalize(uni_venues)\n",
    "df2.head()\n"
   ]
  },
  {
   "cell_type": "code",
   "execution_count": 17,
   "metadata": {},
   "outputs": [
    {
     "name": "stderr",
     "output_type": "stream",
     "text": [
      "/home/jupyterlab/conda/envs/python/lib/python3.6/site-packages/ipykernel_launcher.py:3: FutureWarning: pandas.io.json.json_normalize is deprecated, use pandas.json_normalize instead\n",
      "  This is separate from the ipykernel package so we can avoid doing imports until\n"
     ]
    },
    {
     "data": {
      "text/html": [
       "<div>\n",
       "<style scoped>\n",
       "    .dataframe tbody tr th:only-of-type {\n",
       "        vertical-align: middle;\n",
       "    }\n",
       "\n",
       "    .dataframe tbody tr th {\n",
       "        vertical-align: top;\n",
       "    }\n",
       "\n",
       "    .dataframe thead th {\n",
       "        text-align: right;\n",
       "    }\n",
       "</style>\n",
       "<table border=\"1\" class=\"dataframe\">\n",
       "  <thead>\n",
       "    <tr style=\"text-align: right;\">\n",
       "      <th></th>\n",
       "      <th>id</th>\n",
       "      <th>name</th>\n",
       "      <th>categories</th>\n",
       "      <th>referralId</th>\n",
       "      <th>hasPerk</th>\n",
       "      <th>location.address</th>\n",
       "      <th>location.lat</th>\n",
       "      <th>location.lng</th>\n",
       "      <th>location.labeledLatLngs</th>\n",
       "      <th>location.distance</th>\n",
       "      <th>location.postalCode</th>\n",
       "      <th>location.cc</th>\n",
       "      <th>location.city</th>\n",
       "      <th>location.state</th>\n",
       "      <th>location.country</th>\n",
       "      <th>location.formattedAddress</th>\n",
       "    </tr>\n",
       "  </thead>\n",
       "  <tbody>\n",
       "    <tr>\n",
       "      <th>0</th>\n",
       "      <td>5bc56e526fd626002c084b63</td>\n",
       "      <td>Dixie Outlet Mall</td>\n",
       "      <td>[{'id': '4bf58dd8d48988d1fd941735', 'name': 'S...</td>\n",
       "      <td>v-1617728212</td>\n",
       "      <td>False</td>\n",
       "      <td>1250 South Service Rd</td>\n",
       "      <td>43.606224</td>\n",
       "      <td>-79.558842</td>\n",
       "      <td>[{'label': 'display', 'lat': 43.60622447043443...</td>\n",
       "      <td>14154</td>\n",
       "      <td>L5E 1V4</td>\n",
       "      <td>CA</td>\n",
       "      <td>Mississauga</td>\n",
       "      <td>ON</td>\n",
       "      <td>Canada</td>\n",
       "      <td>[1250 South Service Rd, Mississauga ON L5E 1V4...</td>\n",
       "    </tr>\n",
       "  </tbody>\n",
       "</table>\n",
       "</div>"
      ],
      "text/plain": [
       "                         id               name  \\\n",
       "0  5bc56e526fd626002c084b63  Dixie Outlet Mall   \n",
       "\n",
       "                                          categories    referralId  hasPerk  \\\n",
       "0  [{'id': '4bf58dd8d48988d1fd941735', 'name': 'S...  v-1617728212    False   \n",
       "\n",
       "        location.address  location.lat  location.lng  \\\n",
       "0  1250 South Service Rd     43.606224    -79.558842   \n",
       "\n",
       "                             location.labeledLatLngs  location.distance  \\\n",
       "0  [{'label': 'display', 'lat': 43.60622447043443...              14154   \n",
       "\n",
       "  location.postalCode location.cc location.city location.state  \\\n",
       "0             L5E 1V4          CA   Mississauga             ON   \n",
       "\n",
       "  location.country                          location.formattedAddress  \n",
       "0           Canada  [1250 South Service Rd, Mississauga ON L5E 1V4...  "
      ]
     },
     "execution_count": 17,
     "metadata": {},
     "output_type": "execute_result"
    }
   ],
   "source": [
    "mall_results = requests.get(mall_url).json()\n",
    "mall_venues = mall_results['response']['venues']\n",
    "df3 = json_normalize(mall_venues)\n",
    "df3.head()"
   ]
  },
  {
   "cell_type": "code",
   "execution_count": 18,
   "metadata": {},
   "outputs": [
    {
     "name": "stdout",
     "output_type": "stream",
     "text": [
      "The closest hospitals in the area are:\n",
      " Credit Valley Hospital\n"
     ]
    }
   ],
   "source": [
    "print(\"The closest hospitals in the area are:\")\n",
    "print ((df1['name']).to_string(index=False))"
   ]
  },
  {
   "cell_type": "code",
   "execution_count": 19,
   "metadata": {},
   "outputs": [
    {
     "name": "stdout",
     "output_type": "stream",
     "text": [
      "The closest universities in the area are:\n",
      " University of Toronto\n"
     ]
    }
   ],
   "source": [
    "print(\"The closest universities in the area are:\")\n",
    "print ((df2['name']).to_string(index=False))"
   ]
  },
  {
   "cell_type": "code",
   "execution_count": 20,
   "metadata": {},
   "outputs": [
    {
     "name": "stdout",
     "output_type": "stream",
     "text": [
      "The closest malls in the area are:\n",
      " Dixie Outlet Mall\n"
     ]
    }
   ],
   "source": [
    "print(\"The closest malls in the area are:\")\n",
    "print ((df3['name']).to_string(index=False))"
   ]
  },
  {
   "cell_type": "code",
   "execution_count": 62,
   "metadata": {},
   "outputs": [
    {
     "name": "stdout",
     "output_type": "stream",
     "text": [
      "The neighbourhood has a population of :\n",
      " 30,526\n"
     ]
    }
   ],
   "source": [
    "print(\"The neighbourhood has a population of :\")\n",
    "print((dfToronto.loc[address]).to_string(index=False))"
   ]
  },
  {
   "cell_type": "code",
   "execution_count": null,
   "metadata": {},
   "outputs": [],
   "source": []
  }
 ],
 "metadata": {
  "kernelspec": {
   "display_name": "Python",
   "language": "python",
   "name": "conda-env-python-py"
  },
  "language_info": {
   "codemirror_mode": {
    "name": "ipython",
    "version": 3
   },
   "file_extension": ".py",
   "mimetype": "text/x-python",
   "name": "python",
   "nbconvert_exporter": "python",
   "pygments_lexer": "ipython3",
   "version": "3.6.12"
  }
 },
 "nbformat": 4,
 "nbformat_minor": 4
}
